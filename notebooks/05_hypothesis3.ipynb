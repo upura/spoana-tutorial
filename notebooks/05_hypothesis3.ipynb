{
 "cells": [
  {
   "cell_type": "code",
   "execution_count": 1,
   "metadata": {},
   "outputs": [
    {
     "data": {
      "text/html": [
       "<style>.container { width:100% !important; }</style>"
      ],
      "text/plain": [
       "<IPython.core.display.HTML object>"
      ]
     },
     "metadata": {},
     "output_type": "display_data"
    }
   ],
   "source": [
    "from IPython.core.display import display, HTML \n",
    "display(HTML(\"<style>.container { width:100% !important; }</style>\"))\n",
    "import pandas as pd\n",
    "import numpy as np\n",
    "import matplotlib.pyplot as plt\n",
    "%matplotlib inline"
   ]
  },
  {
   "cell_type": "code",
   "execution_count": 2,
   "metadata": {
    "collapsed": true
   },
   "outputs": [],
   "source": [
    "df = pd.read_csv('../data/input/df.csv', index_col='datetime')\n",
    "df.index = pd.to_datetime(df.index, utc=True)"
   ]
  },
  {
   "cell_type": "code",
   "execution_count": 3,
   "metadata": {
    "scrolled": true
   },
   "outputs": [
    {
     "data": {
      "text/html": [
       "<div>\n",
       "<style scoped>\n",
       "    .dataframe tbody tr th:only-of-type {\n",
       "        vertical-align: middle;\n",
       "    }\n",
       "\n",
       "    .dataframe tbody tr th {\n",
       "        vertical-align: top;\n",
       "    }\n",
       "\n",
       "    .dataframe thead th {\n",
       "        text-align: right;\n",
       "    }\n",
       "</style>\n",
       "<table border=\"1\" class=\"dataframe\">\n",
       "  <thead>\n",
       "    <tr style=\"text-align: right;\">\n",
       "      <th></th>\n",
       "      <th>stepCount</th>\n",
       "    </tr>\n",
       "    <tr>\n",
       "      <th>datetime</th>\n",
       "      <th></th>\n",
       "    </tr>\n",
       "  </thead>\n",
       "  <tbody>\n",
       "    <tr>\n",
       "      <th>2017-06-27 23:04:40+00:00</th>\n",
       "      <td>504</td>\n",
       "    </tr>\n",
       "    <tr>\n",
       "      <th>2017-06-27 23:14:34+00:00</th>\n",
       "      <td>871</td>\n",
       "    </tr>\n",
       "    <tr>\n",
       "      <th>2017-06-27 23:22:53+00:00</th>\n",
       "      <td>25</td>\n",
       "    </tr>\n",
       "    <tr>\n",
       "      <th>2017-06-27 23:29:45+00:00</th>\n",
       "      <td>29</td>\n",
       "    </tr>\n",
       "    <tr>\n",
       "      <th>2017-06-27 23:36:05+00:00</th>\n",
       "      <td>17</td>\n",
       "    </tr>\n",
       "  </tbody>\n",
       "</table>\n",
       "</div>"
      ],
      "text/plain": [
       "                           stepCount\n",
       "datetime                            \n",
       "2017-06-27 23:04:40+00:00        504\n",
       "2017-06-27 23:14:34+00:00        871\n",
       "2017-06-27 23:22:53+00:00         25\n",
       "2017-06-27 23:29:45+00:00         29\n",
       "2017-06-27 23:36:05+00:00         17"
      ]
     },
     "execution_count": 3,
     "metadata": {},
     "output_type": "execute_result"
    }
   ],
   "source": [
    "df.head()"
   ]
  },
  {
   "cell_type": "code",
   "execution_count": 4,
   "metadata": {
    "collapsed": true
   },
   "outputs": [],
   "source": [
    "df['datetimeja'] = df.index.tz_convert('Asia/Tokyo')"
   ]
  },
  {
   "cell_type": "code",
   "execution_count": 5,
   "metadata": {
    "collapsed": true
   },
   "outputs": [],
   "source": [
    "df['date'] = df['datetimeja'].dt.date\n",
    "df['time'] = df['datetimeja'].dt.time\n",
    "df['dow'] = df['datetimeja'].dt.weekday"
   ]
  },
  {
   "cell_type": "code",
   "execution_count": 6,
   "metadata": {
    "scrolled": false
   },
   "outputs": [
    {
     "data": {
      "text/html": [
       "<div>\n",
       "<style scoped>\n",
       "    .dataframe tbody tr th:only-of-type {\n",
       "        vertical-align: middle;\n",
       "    }\n",
       "\n",
       "    .dataframe tbody tr th {\n",
       "        vertical-align: top;\n",
       "    }\n",
       "\n",
       "    .dataframe thead th {\n",
       "        text-align: right;\n",
       "    }\n",
       "</style>\n",
       "<table border=\"1\" class=\"dataframe\">\n",
       "  <thead>\n",
       "    <tr style=\"text-align: right;\">\n",
       "      <th></th>\n",
       "      <th>stepCount</th>\n",
       "      <th>datetimeja</th>\n",
       "      <th>date</th>\n",
       "      <th>time</th>\n",
       "      <th>dow</th>\n",
       "    </tr>\n",
       "    <tr>\n",
       "      <th>datetime</th>\n",
       "      <th></th>\n",
       "      <th></th>\n",
       "      <th></th>\n",
       "      <th></th>\n",
       "      <th></th>\n",
       "    </tr>\n",
       "  </thead>\n",
       "  <tbody>\n",
       "    <tr>\n",
       "      <th>2017-06-27 23:04:40+00:00</th>\n",
       "      <td>504</td>\n",
       "      <td>2017-06-28 08:04:40+09:00</td>\n",
       "      <td>2017-06-28</td>\n",
       "      <td>08:04:40</td>\n",
       "      <td>2</td>\n",
       "    </tr>\n",
       "    <tr>\n",
       "      <th>2017-06-27 23:14:34+00:00</th>\n",
       "      <td>871</td>\n",
       "      <td>2017-06-28 08:14:34+09:00</td>\n",
       "      <td>2017-06-28</td>\n",
       "      <td>08:14:34</td>\n",
       "      <td>2</td>\n",
       "    </tr>\n",
       "    <tr>\n",
       "      <th>2017-06-27 23:22:53+00:00</th>\n",
       "      <td>25</td>\n",
       "      <td>2017-06-28 08:22:53+09:00</td>\n",
       "      <td>2017-06-28</td>\n",
       "      <td>08:22:53</td>\n",
       "      <td>2</td>\n",
       "    </tr>\n",
       "    <tr>\n",
       "      <th>2017-06-27 23:29:45+00:00</th>\n",
       "      <td>29</td>\n",
       "      <td>2017-06-28 08:29:45+09:00</td>\n",
       "      <td>2017-06-28</td>\n",
       "      <td>08:29:45</td>\n",
       "      <td>2</td>\n",
       "    </tr>\n",
       "    <tr>\n",
       "      <th>2017-06-27 23:36:05+00:00</th>\n",
       "      <td>17</td>\n",
       "      <td>2017-06-28 08:36:05+09:00</td>\n",
       "      <td>2017-06-28</td>\n",
       "      <td>08:36:05</td>\n",
       "      <td>2</td>\n",
       "    </tr>\n",
       "  </tbody>\n",
       "</table>\n",
       "</div>"
      ],
      "text/plain": [
       "                           stepCount                datetimeja        date  \\\n",
       "datetime                                                                     \n",
       "2017-06-27 23:04:40+00:00        504 2017-06-28 08:04:40+09:00  2017-06-28   \n",
       "2017-06-27 23:14:34+00:00        871 2017-06-28 08:14:34+09:00  2017-06-28   \n",
       "2017-06-27 23:22:53+00:00         25 2017-06-28 08:22:53+09:00  2017-06-28   \n",
       "2017-06-27 23:29:45+00:00         29 2017-06-28 08:29:45+09:00  2017-06-28   \n",
       "2017-06-27 23:36:05+00:00         17 2017-06-28 08:36:05+09:00  2017-06-28   \n",
       "\n",
       "                               time  dow  \n",
       "datetime                                  \n",
       "2017-06-27 23:04:40+00:00  08:04:40    2  \n",
       "2017-06-27 23:14:34+00:00  08:14:34    2  \n",
       "2017-06-27 23:22:53+00:00  08:22:53    2  \n",
       "2017-06-27 23:29:45+00:00  08:29:45    2  \n",
       "2017-06-27 23:36:05+00:00  08:36:05    2  "
      ]
     },
     "execution_count": 6,
     "metadata": {},
     "output_type": "execute_result"
    }
   ],
   "source": [
    "df.head()"
   ]
  },
  {
   "cell_type": "code",
   "execution_count": 7,
   "metadata": {},
   "outputs": [
    {
     "data": {
      "text/html": [
       "<div>\n",
       "<style scoped>\n",
       "    .dataframe tbody tr th:only-of-type {\n",
       "        vertical-align: middle;\n",
       "    }\n",
       "\n",
       "    .dataframe tbody tr th {\n",
       "        vertical-align: top;\n",
       "    }\n",
       "\n",
       "    .dataframe thead th {\n",
       "        text-align: right;\n",
       "    }\n",
       "</style>\n",
       "<table border=\"1\" class=\"dataframe\">\n",
       "  <thead>\n",
       "    <tr style=\"text-align: right;\">\n",
       "      <th></th>\n",
       "      <th>stepCount</th>\n",
       "      <th>datetimeja</th>\n",
       "      <th>date</th>\n",
       "      <th>time</th>\n",
       "      <th>dow</th>\n",
       "    </tr>\n",
       "    <tr>\n",
       "      <th>datetime</th>\n",
       "      <th></th>\n",
       "      <th></th>\n",
       "      <th></th>\n",
       "      <th></th>\n",
       "      <th></th>\n",
       "    </tr>\n",
       "  </thead>\n",
       "  <tbody>\n",
       "    <tr>\n",
       "      <th>2019-02-02 02:16:31+00:00</th>\n",
       "      <td>184</td>\n",
       "      <td>2019-02-02 11:16:31+09:00</td>\n",
       "      <td>2019-02-02</td>\n",
       "      <td>11:16:31</td>\n",
       "      <td>5</td>\n",
       "    </tr>\n",
       "    <tr>\n",
       "      <th>2019-02-02 02:56:48+00:00</th>\n",
       "      <td>459</td>\n",
       "      <td>2019-02-02 11:56:48+09:00</td>\n",
       "      <td>2019-02-02</td>\n",
       "      <td>11:56:48</td>\n",
       "      <td>5</td>\n",
       "    </tr>\n",
       "    <tr>\n",
       "      <th>2019-02-02 06:31:36+00:00</th>\n",
       "      <td>1124</td>\n",
       "      <td>2019-02-02 15:31:36+09:00</td>\n",
       "      <td>2019-02-02</td>\n",
       "      <td>15:31:36</td>\n",
       "      <td>5</td>\n",
       "    </tr>\n",
       "    <tr>\n",
       "      <th>2019-02-02 06:41:36+00:00</th>\n",
       "      <td>658</td>\n",
       "      <td>2019-02-02 15:41:36+09:00</td>\n",
       "      <td>2019-02-02</td>\n",
       "      <td>15:41:36</td>\n",
       "      <td>5</td>\n",
       "    </tr>\n",
       "    <tr>\n",
       "      <th>2019-02-02 07:01:30+00:00</th>\n",
       "      <td>34</td>\n",
       "      <td>2019-02-02 16:01:30+09:00</td>\n",
       "      <td>2019-02-02</td>\n",
       "      <td>16:01:30</td>\n",
       "      <td>5</td>\n",
       "    </tr>\n",
       "  </tbody>\n",
       "</table>\n",
       "</div>"
      ],
      "text/plain": [
       "                           stepCount                datetimeja        date  \\\n",
       "datetime                                                                     \n",
       "2019-02-02 02:16:31+00:00        184 2019-02-02 11:16:31+09:00  2019-02-02   \n",
       "2019-02-02 02:56:48+00:00        459 2019-02-02 11:56:48+09:00  2019-02-02   \n",
       "2019-02-02 06:31:36+00:00       1124 2019-02-02 15:31:36+09:00  2019-02-02   \n",
       "2019-02-02 06:41:36+00:00        658 2019-02-02 15:41:36+09:00  2019-02-02   \n",
       "2019-02-02 07:01:30+00:00         34 2019-02-02 16:01:30+09:00  2019-02-02   \n",
       "\n",
       "                               time  dow  \n",
       "datetime                                  \n",
       "2019-02-02 02:16:31+00:00  11:16:31    5  \n",
       "2019-02-02 02:56:48+00:00  11:56:48    5  \n",
       "2019-02-02 06:31:36+00:00  15:31:36    5  \n",
       "2019-02-02 06:41:36+00:00  15:41:36    5  \n",
       "2019-02-02 07:01:30+00:00  16:01:30    5  "
      ]
     },
     "execution_count": 7,
     "metadata": {},
     "output_type": "execute_result"
    }
   ],
   "source": [
    "df.tail()"
   ]
  },
  {
   "cell_type": "code",
   "execution_count": 8,
   "metadata": {
    "collapsed": true
   },
   "outputs": [],
   "source": [
    "from datetime import date, timedelta, time\n",
    "\n",
    "def date_range(start_date: date, end_date: date):\n",
    "    diff = (end_date - start_date).days + 1\n",
    "    return (start_date + timedelta(i) for i in range(diff))"
   ]
  },
  {
   "cell_type": "code",
   "execution_count": 9,
   "metadata": {},
   "outputs": [],
   "source": [
    "dfs = []\n",
    "\n",
    "for d in date_range(date(2018, 10, 1), date(2018, 10, 30)):\n",
    "\n",
    "    try:\n",
    "        if (df[df['date'] ==d]['dow'][0] == 6):\n",
    "            tmp = df[df['date'] ==d][['stepCount', 'time']].reset_index(drop=True)\n",
    "            tmp.iloc[0] = [0, time(0, 0, 0)]\n",
    "            tmp.iloc[len(tmp) - 1] = [0, time(23, 59, 59)]    \n",
    "            tmp['cumsumStepCount'] = tmp['stepCount'].cumsum()\n",
    "\n",
    "            dfs.append(tmp)\n",
    "    except:\n",
    "        pass"
   ]
  },
  {
   "cell_type": "code",
   "execution_count": 10,
   "metadata": {},
   "outputs": [
    {
     "data": {
      "image/png": "[encoded data removed]",
      "text/plain": [
       "<matplotlib.figure.Figure at 0x10e328278>"
      ]
     },
     "metadata": {},
     "output_type": "display_data"
    }
   ],
   "source": [
    "plt.figure(figsize=(10, 10))\n",
    "plt.rcParams[\"font.size\"] = 18\n",
    "plt.ylabel('cumsumStepCount')\n",
    "plt.ylim(0, 13000)\n",
    "\n",
    "for _df in dfs:\n",
    "    plt.plot(_df['time'], _df['cumsumStepCount'])"
   ]
  },
  {
   "cell_type": "code",
   "execution_count": 11,
   "metadata": {
    "collapsed": true
   },
   "outputs": [],
   "source": [
    "dfs = []\n",
    "\n",
    "for d in date_range(date(2018, 10, 1), date(2018, 10, 30)):\n",
    "\n",
    "    try:\n",
    "        if (df[df['date'] ==d]['dow'][0] == 4):\n",
    "            tmp = df[df['date'] ==d][['stepCount', 'time']].reset_index(drop=True)\n",
    "            tmp.iloc[0] = [0, time(0, 0, 0)]\n",
    "            tmp.iloc[len(tmp) - 1] = [0, time(23, 59, 59)]    \n",
    "            tmp['cumsumStepCount'] = tmp['stepCount'].cumsum()\n",
    "\n",
    "            dfs.append(tmp)\n",
    "    except:\n",
    "        pass"
   ]
  },
  {
   "cell_type": "code",
   "execution_count": 12,
   "metadata": {},
   "outputs": [
    {
     "data": {
      "image/png": "[encoded data removed]",
      "text/plain": [
       "<matplotlib.figure.Figure at 0x10de03748>"
      ]
     },
     "metadata": {},
     "output_type": "display_data"
    }
   ],
   "source": [
    "plt.figure(figsize=(10, 10))\n",
    "plt.rcParams[\"font.size\"] = 18\n",
    "plt.ylabel('cumsumStepCount')\n",
    "plt.ylim(0, 13000)\n",
    "\n",
    "for _df in dfs:\n",
    "    plt.plot(_df['time'], _df['cumsumStepCount'])"
   ]
  },
  {
   "cell_type": "code",
   "execution_count": null,
   "metadata": {
    "collapsed": true
   },
   "outputs": [],
   "source": []
  }
 ],
 "metadata": {
  "kernelspec": {
   "display_name": "Python 3",
   "language": "python",
   "name": "python3"
  },
  "language_info": {
   "codemirror_mode": {
    "name": "ipython",
    "version": 3
   },
   "file_extension": ".py",
   "mimetype": "text/x-python",
   "name": "python",
   "nbconvert_exporter": "python",
   "pygments_lexer": "ipython3",
   "version": "3.6.8"
  }
 },
 "nbformat": 4,
 "nbformat_minor": 2
}
